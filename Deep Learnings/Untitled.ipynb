{
 "cells": [
  {
   "cell_type": "code",
   "execution_count": 1,
   "id": "0e6e1d3b",
   "metadata": {},
   "outputs": [],
   "source": [
    "import os\n",
    "os.environ['KMP_DUPLICATE_LIB_OK']='True'"
   ]
  },
  {
   "cell_type": "code",
   "execution_count": 2,
   "id": "794fbcbe",
   "metadata": {},
   "outputs": [],
   "source": [
    "import numpy as np\n",
    "import tensorflow as tf\n",
    "from tensorflow import keras\n",
    "import pandas as pd\n",
    "import matplotlib.pyplot as plt\n",
    "%matplotlib inline\n"
   ]
  },
  {
   "cell_type": "code",
   "execution_count": 3,
   "id": "a7cbc901",
   "metadata": {},
   "outputs": [
    {
     "data": {
      "text/plain": [
       "[LogicalDevice(name='/device:CPU:0', device_type='CPU')]"
      ]
     },
     "execution_count": 3,
     "metadata": {},
     "output_type": "execute_result"
    }
   ],
   "source": [
    "tf.config.experimental.list_logical_devices()"
   ]
  },
  {
   "cell_type": "code",
   "execution_count": 4,
   "id": "64ed989c",
   "metadata": {},
   "outputs": [
    {
     "data": {
      "text/plain": [
       "False"
      ]
     },
     "execution_count": 4,
     "metadata": {},
     "output_type": "execute_result"
    }
   ],
   "source": [
    "tf.test.is_built_with_cuda()"
   ]
  },
  {
   "cell_type": "code",
   "execution_count": 5,
   "id": "9d5832ed",
   "metadata": {},
   "outputs": [],
   "source": [
    "import ssl\n",
    "ssl._create_default_https_context = ssl._create_unverified_context #bypass certificate verification"
   ]
  },
  {
   "cell_type": "code",
   "execution_count": 6,
   "id": "5ee2348f",
   "metadata": {},
   "outputs": [],
   "source": [
    "(x_train, y_train), (x_test, y_test) = tf.keras.datasets.cifar10.load_data()"
   ]
  },
  {
   "cell_type": "code",
   "execution_count": 7,
   "id": "a69495a4",
   "metadata": {},
   "outputs": [
    {
     "data": {
      "text/plain": [
       "(50000, 32, 32, 3)"
      ]
     },
     "execution_count": 7,
     "metadata": {},
     "output_type": "execute_result"
    }
   ],
   "source": [
    "x_train.shape"
   ]
  },
  {
   "cell_type": "code",
   "execution_count": 8,
   "id": "35636198",
   "metadata": {},
   "outputs": [
    {
     "data": {
      "text/plain": [
       "(32, 32, 3)"
      ]
     },
     "execution_count": 8,
     "metadata": {},
     "output_type": "execute_result"
    }
   ],
   "source": [
    "x_train[0].shape"
   ]
  },
  {
   "cell_type": "code",
   "execution_count": 9,
   "id": "27dae5d3",
   "metadata": {},
   "outputs": [
    {
     "data": {
      "text/plain": [
       "array([[6],\n",
       "       [9],\n",
       "       [9],\n",
       "       [4],\n",
       "       [1]], dtype=uint8)"
      ]
     },
     "execution_count": 9,
     "metadata": {},
     "output_type": "execute_result"
    }
   ],
   "source": [
    "y_train[0:5]"
   ]
  },
  {
   "cell_type": "code",
   "execution_count": 10,
   "id": "1373da44",
   "metadata": {},
   "outputs": [],
   "source": [
    "def plot_sample(index):\n",
    "    plt.figure(figsize=(10,1))\n",
    "    plt.imshow(x_train[index])"
   ]
  },
  {
   "cell_type": "code",
   "execution_count": 11,
   "id": "f7dc23f7",
   "metadata": {},
   "outputs": [
    {
     "data": {
      "image/png": "[encoded data removed]",
      "text/plain": [
       "<Figure size 720x72 with 1 Axes>"
      ]
     },
     "metadata": {
      "needs_background": "light"
     },
     "output_type": "display_data"
    }
   ],
   "source": [
    "plot_sample(0)"
   ]
  },
  {
   "cell_type": "code",
   "execution_count": 12,
   "id": "081b32c6",
   "metadata": {},
   "outputs": [
    {
     "data": {
      "image/png": "[encoded data removed]",
      "text/plain": [
       "<Figure size 720x72 with 1 Axes>"
      ]
     },
     "metadata": {
      "needs_background": "light"
     },
     "output_type": "display_data"
    }
   ],
   "source": [
    "plot_sample(1)"
   ]
  },
  {
   "cell_type": "code",
   "execution_count": 13,
   "id": "ad6b7298",
   "metadata": {},
   "outputs": [
    {
     "data": {
      "image/png": "[encoded data removed]",
      "text/plain": [
       "<Figure size 720x72 with 1 Axes>"
      ]
     },
     "metadata": {
      "needs_background": "light"
     },
     "output_type": "display_data"
    }
   ],
   "source": [
    "plot_sample(5)"
   ]
  },
  {
   "cell_type": "code",
   "execution_count": 15,
   "id": "7933dc76",
   "metadata": {},
   "outputs": [],
   "source": [
    "classes = [\"airplane\", \"automibile\", \"bird\", \"cat\", \"deer\", \"dog\", \"frog\", \"horse\", \"ship\", \"truck\"]"
   ]
  },
  {
   "cell_type": "code",
   "execution_count": 16,
   "id": "51754e6e",
   "metadata": {},
   "outputs": [
    {
     "data": {
      "text/plain": [
       "array([4], dtype=uint8)"
      ]
     },
     "execution_count": 16,
     "metadata": {},
     "output_type": "execute_result"
    }
   ],
   "source": [
    "y_train[3]"
   ]
  },
  {
   "cell_type": "code",
   "execution_count": 18,
   "id": "3b2a5c9c",
   "metadata": {},
   "outputs": [
    {
     "data": {
      "text/plain": [
       "'deer'"
      ]
     },
     "execution_count": 18,
     "metadata": {},
     "output_type": "execute_result"
    }
   ],
   "source": [
    "classes[y_train[3][0]]"
   ]
  },
  {
   "cell_type": "code",
   "execution_count": 21,
   "id": "0eaf2e9e",
   "metadata": {},
   "outputs": [],
   "source": [
    "#scalling the images\n",
    "\n",
    "x_train_scaled = x_train / 255\n",
    "x_test_scaled = x_test / 255"
   ]
  },
  {
   "cell_type": "code",
   "execution_count": 19,
   "id": "910443d7",
   "metadata": {},
   "outputs": [
    {
     "data": {
      "text/plain": [
       "array([[0., 0., 0., 0., 0., 0., 1., 0., 0., 0.],\n",
       "       [0., 0., 0., 0., 0., 0., 0., 0., 0., 1.],\n",
       "       [0., 0., 0., 0., 0., 0., 0., 0., 0., 1.],\n",
       "       [0., 0., 0., 0., 1., 0., 0., 0., 0., 0.],\n",
       "       [0., 1., 0., 0., 0., 0., 0., 0., 0., 0.]], dtype=float32)"
      ]
     },
     "execution_count": 19,
     "metadata": {},
     "output_type": "execute_result"
    }
   ],
   "source": [
    "# y is discrete and we need to convert it into categorical using oneHotEncoding\n",
    "\n",
    "y_train_categorical = keras.utils.to_categorical(\n",
    "    y_train, num_classes=10, dtype='float32'\n",
    ")\n",
    "\n",
    "y_test_categorical = keras.utils.to_categorical(\n",
    "    y_test, num_classes=10, dtype='float32'\n",
    ")\n",
    "\n",
    "y_train_categorical[:5]"
   ]
  },
  {
   "cell_type": "code",
   "execution_count": 20,
   "id": "179e2282",
   "metadata": {},
   "outputs": [
    {
     "data": {
      "text/plain": [
       "3072"
      ]
     },
     "execution_count": 20,
     "metadata": {},
     "output_type": "execute_result"
    }
   ],
   "source": [
    "32*32*3"
   ]
  },
  {
   "cell_type": "code",
   "execution_count": 22,
   "id": "f09090ed",
   "metadata": {},
   "outputs": [
    {
     "name": "stdout",
     "output_type": "stream",
     "text": [
      "Epoch 1/50\n",
      "1563/1563 [==============================] - 69s 44ms/step - loss: 1.8053 - accuracy: 0.3596\n",
      "Epoch 2/50\n",
      "1563/1563 [==============================] - 69s 44ms/step - loss: 1.6175 - accuracy: 0.4306\n",
      "Epoch 3/50\n",
      "1563/1563 [==============================] - 67s 43ms/step - loss: 1.5374 - accuracy: 0.4591\n",
      "Epoch 4/50\n",
      "1563/1563 [==============================] - 68s 43ms/step - loss: 1.4741 - accuracy: 0.4833\n",
      "Epoch 5/50\n",
      "1563/1563 [==============================] - 69s 44ms/step - loss: 1.4237 - accuracy: 0.4991\n",
      "Epoch 6/50\n",
      "1563/1563 [==============================] - 68s 44ms/step - loss: 1.3794 - accuracy: 0.5168\n",
      "Epoch 7/50\n",
      "1563/1563 [==============================] - 68s 43ms/step - loss: 1.3410 - accuracy: 0.5278\n",
      "Epoch 8/50\n",
      "1563/1563 [==============================] - 67s 43ms/step - loss: 1.3047 - accuracy: 0.5444\n",
      "Epoch 9/50\n",
      "1563/1563 [==============================] - 69s 44ms/step - loss: 1.2706 - accuracy: 0.5554\n",
      "Epoch 10/50\n",
      "1563/1563 [==============================] - 67s 43ms/step - loss: 1.2404 - accuracy: 0.5672\n",
      "Epoch 11/50\n",
      "1563/1563 [==============================] - 68s 43ms/step - loss: 1.2115 - accuracy: 0.5798\n",
      "Epoch 12/50\n",
      "1563/1563 [==============================] - 67s 43ms/step - loss: 1.1800 - accuracy: 0.5875\n",
      "Epoch 13/50\n",
      "1563/1563 [==============================] - 68s 43ms/step - loss: 1.1517 - accuracy: 0.5982\n",
      "Epoch 14/50\n",
      "1563/1563 [==============================] - 68s 43ms/step - loss: 1.1261 - accuracy: 0.6051\n",
      "Epoch 15/50\n",
      "1563/1563 [==============================] - 67s 43ms/step - loss: 1.0961 - accuracy: 0.6179\n",
      "Epoch 16/50\n",
      "1563/1563 [==============================] - 68s 44ms/step - loss: 1.0686 - accuracy: 0.6275\n",
      "Epoch 17/50\n",
      "1563/1563 [==============================] - 67s 43ms/step - loss: 1.0446 - accuracy: 0.6382\n",
      "Epoch 18/50\n",
      "1563/1563 [==============================] - 69s 44ms/step - loss: 1.0125 - accuracy: 0.6493\n",
      "Epoch 19/50\n",
      "1563/1563 [==============================] - 64s 41ms/step - loss: 0.9866 - accuracy: 0.6584\n",
      "Epoch 20/50\n",
      "1563/1563 [==============================] - 64s 41ms/step - loss: 0.9638 - accuracy: 0.6672\n",
      "Epoch 21/50\n",
      "1563/1563 [==============================] - 63s 41ms/step - loss: 0.9355 - accuracy: 0.6782\n",
      "Epoch 22/50\n",
      "1563/1563 [==============================] - 65s 41ms/step - loss: 0.9099 - accuracy: 0.6851\n",
      "Epoch 23/50\n",
      "1563/1563 [==============================] - 63s 41ms/step - loss: 0.8821 - accuracy: 0.6962\n",
      "Epoch 24/50\n",
      "1563/1563 [==============================] - 63s 40ms/step - loss: 0.8539 - accuracy: 0.7050\n",
      "Epoch 25/50\n",
      "1563/1563 [==============================] - 63s 41ms/step - loss: 0.8256 - accuracy: 0.7184\n",
      "Epoch 26/50\n",
      "1563/1563 [==============================] - 64s 41ms/step - loss: 0.8036 - accuracy: 0.7241\n",
      "Epoch 27/50\n",
      "1563/1563 [==============================] - 63s 41ms/step - loss: 0.7736 - accuracy: 0.7367\n",
      "Epoch 28/50\n",
      "1563/1563 [==============================] - 64s 41ms/step - loss: 0.7494 - accuracy: 0.7442\n",
      "Epoch 29/50\n",
      "1563/1563 [==============================] - 65s 41ms/step - loss: 0.7212 - accuracy: 0.7565\n",
      "Epoch 30/50\n",
      "1563/1563 [==============================] - 64s 41ms/step - loss: 0.6978 - accuracy: 0.7637\n",
      "Epoch 31/50\n",
      "1563/1563 [==============================] - 64s 41ms/step - loss: 0.6725 - accuracy: 0.7717\n",
      "Epoch 32/50\n",
      "1563/1563 [==============================] - 64s 41ms/step - loss: 0.6454 - accuracy: 0.7839\n",
      "Epoch 33/50\n",
      "1563/1563 [==============================] - 64s 41ms/step - loss: 0.6173 - accuracy: 0.7945\n",
      "Epoch 34/50\n",
      "1563/1563 [==============================] - 65s 42ms/step - loss: 0.5931 - accuracy: 0.8054\n",
      "Epoch 35/50\n",
      "1563/1563 [==============================] - 63s 41ms/step - loss: 0.5667 - accuracy: 0.8124\n",
      "Epoch 36/50\n",
      "1563/1563 [==============================] - 64s 41ms/step - loss: 0.5446 - accuracy: 0.8194\n",
      "Epoch 37/50\n",
      "1563/1563 [==============================] - 64s 41ms/step - loss: 0.5212 - accuracy: 0.8300\n",
      "Epoch 38/50\n",
      "1563/1563 [==============================] - 63s 41ms/step - loss: 0.4961 - accuracy: 0.8399\n",
      "Epoch 39/50\n",
      "1563/1563 [==============================] - 64s 41ms/step - loss: 0.4727 - accuracy: 0.8467\n",
      "Epoch 40/50\n",
      "1563/1563 [==============================] - 64s 41ms/step - loss: 0.4485 - accuracy: 0.8566\n",
      "Epoch 41/50\n",
      "1563/1563 [==============================] - 64s 41ms/step - loss: 0.4256 - accuracy: 0.8660\n",
      "Epoch 42/50\n",
      "1563/1563 [==============================] - 63s 40ms/step - loss: 0.4019 - accuracy: 0.8745\n",
      "Epoch 43/50\n",
      "1563/1563 [==============================] - 62s 40ms/step - loss: 0.3822 - accuracy: 0.88150s - loss: 0.3820 - accuracy\n",
      "Epoch 44/50\n",
      "1563/1563 [==============================] - 64s 41ms/step - loss: 0.3587 - accuracy: 0.8912\n",
      "Epoch 45/50\n",
      "1563/1563 [==============================] - 67s 43ms/step - loss: 0.3428 - accuracy: 0.8945\n",
      "Epoch 46/50\n",
      "1563/1563 [==============================] - 86s 55ms/step - loss: 0.3206 - accuracy: 0.9030\n",
      "Epoch 47/50\n",
      "1563/1563 [==============================] - 70s 45ms/step - loss: 0.3049 - accuracy: 0.9094\n",
      "Epoch 48/50\n",
      "1563/1563 [==============================] - 70s 45ms/step - loss: 0.2862 - accuracy: 0.9173\n",
      "Epoch 49/50\n",
      "1563/1563 [==============================] - 109s 70ms/step - loss: 0.2695 - accuracy: 0.9212\n",
      "Epoch 50/50\n",
      "1563/1563 [==============================] - 92s 59ms/step - loss: 0.2496 - accuracy: 0.9300\n"
     ]
    },
    {
     "data": {
      "text/plain": [
       "<keras.callbacks.History at 0x213bbcd2040>"
      ]
     },
     "execution_count": 22,
     "metadata": {},
     "output_type": "execute_result"
    }
   ],
   "source": [
    "#model building\n",
    "# the we have to flatten the data into one signle input array using Flatten\n",
    "# It'll use linear if we don't specify the activation function\n",
    "\n",
    "model =  keras.Sequential([\n",
    "    keras.layers.Flatten(input_shape=(32,32,3)),\n",
    "    \n",
    "    #hiden layers and we choose val =3000 ~=32832*3 flatten samples. More hiden layers tend to improve the result/score\n",
    "    keras.layers.Dense(3000, activation='relu'),\n",
    "    keras.layers.Dense(3000, activation='relu'),\n",
    "    keras.layers.Dense(10, activation='sigmoid')\n",
    "])\n",
    "\n",
    "model.compile(optimizer='SGD', #SGD is good here as we have more sample\n",
    "             loss='categorical_crossentropy', # categorical coz we used OneHodEncoding\n",
    "             metrics=['accuracy'])\n",
    "\n",
    "model.fit(x_train_scaled, y_train_categorical, epochs=50)"
   ]
  },
  {
   "cell_type": "code",
   "execution_count": 26,
   "id": "367d6fd2",
   "metadata": {},
   "outputs": [
    {
     "data": {
      "text/plain": [
       "'cat'"
      ]
     },
     "execution_count": 26,
     "metadata": {},
     "output_type": "execute_result"
    }
   ],
   "source": [
    "classes[np.argmax(model.predict(x_test_scaled)[0])]"
   ]
  },
  {
   "cell_type": "code",
   "execution_count": 24,
   "id": "2b8cb43d",
   "metadata": {},
   "outputs": [
    {
     "data": {
      "text/plain": [
       "'cat'"
      ]
     },
     "execution_count": 24,
     "metadata": {},
     "output_type": "execute_result"
    }
   ],
   "source": [
    "classes[y_test[0][0]]"
   ]
  },
  {
   "cell_type": "code",
   "execution_count": null,
   "id": "ca67461b",
   "metadata": {},
   "outputs": [],
   "source": [
    "model.evaluate(x_tes)"
   ]
  },
  {
   "cell_type": "code",
   "execution_count": 27,
   "id": "09ceb6c1",
   "metadata": {},
   "outputs": [],
   "source": [
    "def get_model():\n",
    "    model =  keras.Sequential([\n",
    "        keras.layers.Flatten(input_shape=(32,32,3)),\n",
    "    \n",
    "        #hiden layers and we choose val =3000 ~=32832*3 flatten samples. More hiden layers tend to improve the result/score\n",
    "        keras.layers.Dense(3000, activation='relu'),\n",
    "        keras.layers.Dense(3000, activation='relu'),\n",
    "        keras.layers.Dense(10, activation='sigmoid')\n",
    "        ])\n",
    "\n",
    "    model.compile(optimizer='SGD', #SGD is good here as we have more sample\n",
    "             loss='categorical_crossentropy', # categorical coz we used OneHodEncoding\n",
    "             metrics=['accuracy'])\n",
    "    \n",
    "    return model"
   ]
  },
  {
   "cell_type": "code",
   "execution_count": 28,
   "id": "10762716",
   "metadata": {},
   "outputs": [
    {
     "name": "stdout",
     "output_type": "stream",
     "text": [
      "1563/1563 [==============================] - 71s 45ms/step - loss: 1.8058 - accuracy: 0.3593\n"
     ]
    }
   ],
   "source": [
    "#run with CPU\n",
    "%%timeit -n1 -r1\n",
    "with tf.device('/CPU:0'):\n",
    "    cpu_model = get_model()\n",
    "    cpu_model.fit(x_train_scaled, y_train_categorical, epochs=1)"
   ]
  }
 ],
 "metadata": {
  "kernelspec": {
   "display_name": "Python 3 (ipykernel)",
   "language": "python",
   "name": "python3"
  },
  "language_info": {
   "codemirror_mode": {
    "name": "ipython",
    "version": 3
   },
   "file_extension": ".py",
   "mimetype": "text/x-python",
   "name": "python",
   "nbconvert_exporter": "python",
   "pygments_lexer": "ipython3",
   "version": "3.9.7"
  }
 },
 "nbformat": 4,
 "nbformat_minor": 5
}
