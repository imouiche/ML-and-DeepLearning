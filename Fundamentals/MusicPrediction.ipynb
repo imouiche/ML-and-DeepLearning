{
 "cells": [
  {
   "cell_type": "code",
   "execution_count": 8,
   "metadata": {},
   "outputs": [
    {
     "data": {
      "text/plain": [
       "1.0"
      ]
     },
     "execution_count": 8,
     "metadata": {},
     "output_type": "execute_result"
    }
   ],
   "source": [
    "import pandas as pd\n",
    "from sklearn.tree import DecisionTreeClassifier\n",
    "from sklearn.model_selection import train_test_split # to split our data\n",
    "from sklearn.metrics import accuracy_score\n",
    "\n",
    "\n",
    "\n",
    "music_data = pd.read_csv('music.csv') #panda is a data frame module\n",
    "X = music_data.drop(columns=['genre']) # drop genre column from the table, it is used for predictions\n",
    "y = music_data['genre']\n",
    "\n",
    "X_train, X_test, y_train, y_test = train_test_split(X, y, test_size=0.2) #allocate 20% of our data for testing, 80% for training\n",
    "#X_traing, X_test output set for training and testing, same for y_train,, y_test\n",
    "\n",
    "model = DecisionTreeClassifier()\n",
    "model.fit(X_train, y_train) #training our model\n",
    "\n",
    "#music_data\n",
    "#predictions = model.predict([[21, 1], [22, 0]])\n",
    "\n",
    "predictions = model.predict(X_test)\n",
    "#predictions\n",
    "\n",
    "#calculate the accuracy\n",
    "score =  accuracy_score(y_test, predictions)\n",
    "score"
   ]
  },
  {
   "cell_type": "code",
   "execution_count": null,
   "metadata": {},
   "outputs": [],
   "source": []
  },
  {
   "cell_type": "code",
   "execution_count": null,
   "metadata": {},
   "outputs": [],
   "source": []
  }
 ],
 "metadata": {
  "kernelspec": {
   "display_name": "Python 3",
   "language": "python",
   "name": "python3"
  },
  "language_info": {
   "codemirror_mode": {
    "name": "ipython",
    "version": 3
   },
   "file_extension": ".py",
   "mimetype": "text/x-python",
   "name": "python",
   "nbconvert_exporter": "python",
   "pygments_lexer": "ipython3",
   "version": "3.8.2"
  }
 },
 "nbformat": 4,
 "nbformat_minor": 4
}
